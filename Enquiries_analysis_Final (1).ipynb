{
 "cells": [
  {
   "cell_type": "markdown",
   "metadata": {},
   "source": [
    "# Analysis of Supplier and Couple Engagement on a Wedding App Platform\n",
    "\n",
    "## Introduction\n",
    "The goal of this analysis is to explore and interpret data related to couple-supplier interactions on a wedding app platform. We will focus on key engagement metrics, such as supplier read rates, supplier response rates, and couple responses (FCR). Through data exploration, visualization, and interpretation, we aim to address specific business questions that shed light on marketplace dynamics and potential areas for improvement.\n",
    "\n",
    "## Key Objectives:\n",
    "\n",
    "1. Create a visualisation to show how supplier read rate differs across supplier tier. Are\n",
    "there any trends that you can identify?\n",
    "2. Identify 5 suppliers with the highest supplier response rates and 5 with the lowest\n",
    "supplier response rate, out of suppliers for countrycode FR that have received at\n",
    "least 10 enquiries. What do you notice about these lists?\n",
    "3. Plot the distribution of the number of initial enquiries sent per wedding. What is the\n",
    "mean number of enquiries per wedding that were sent in countrycode GB? How does\n",
    "this compare to the mode?\n",
    "4. Plot daily enquiry levels across the time period for countrycodes GB & FR. Are there\n",
    "any patterns you can identify?\n",
    "5. Which step shows the greatest drop off in conversion across the FCR funnel for\n",
    "countrycode GB? What reasons can you think of that could be driving this effect?"
   ]
  },
  {
   "cell_type": "markdown",
   "metadata": {},
   "source": [
    "## Importing the required libraries"
   ]
  },
  {
   "cell_type": "code",
   "execution_count": 7,
   "metadata": {},
   "outputs": [],
   "source": [
    "import pandas as pd\n",
    "import matplotlib.pyplot as plt\n",
    "import seaborn as sns"
   ]
  },
  {
   "cell_type": "markdown",
   "metadata": {},
   "source": [
    "## Loading and previewing the data"
   ]
  },
  {
   "cell_type": "code",
   "execution_count": 8,
   "metadata": {},
   "outputs": [
    {
     "name": "stdout",
     "output_type": "stream",
     "text": [
      "Enquiries DataFrame:\n",
      "<class 'pandas.core.frame.DataFrame'>\n",
      "RangeIndex: 7399 entries, 0 to 7398\n",
      "Data columns (total 24 columns):\n",
      " #   Column                   Non-Null Count  Dtype  \n",
      "---  ------                   --------------  -----  \n",
      " 0   weddingid                3053 non-null   object \n",
      " 1   suppId                   3053 non-null   float64\n",
      " 2   ids                      3053 non-null   object \n",
      " 3   mobileApp                3053 non-null   object \n",
      " 4   week                     3053 non-null   float64\n",
      " 5   enquiryid                3053 non-null   object \n",
      " 6   supplierTier             2089 non-null   float64\n",
      " 7   weddingDate              2988 non-null   object \n",
      " 8   contactedSupplierCounty  3053 non-null   object \n",
      " 9   year                     3053 non-null   float64\n",
      " 10  weekStartDt              3053 non-null   object \n",
      " 11  enqTime                  3053 non-null   object \n",
      " 12  cm1_check                3053 non-null   float64\n",
      " 13  smr_time                 2041 non-null   object \n",
      " 14  smr_check                3053 non-null   float64\n",
      " 15  sm1_time                 1512 non-null   object \n",
      " 16  sm1_check                3053 non-null   float64\n",
      " 17  cmr_time                 1021 non-null   object \n",
      " 18  cmr_check                3053 non-null   float64\n",
      " 19  cm2_time                 251 non-null    object \n",
      " 20  cm2_check                3053 non-null   float64\n",
      " 21  re_time                  448 non-null    object \n",
      " 22  re_check                 3053 non-null   float64\n",
      " 23  countryCode              3053 non-null   object \n",
      "dtypes: float64(10), object(14)\n",
      "memory usage: 1.4+ MB\n",
      "None\n"
     ]
    }
   ],
   "source": [
    "# Load the datasets\n",
    "enquiries_path = r\"Downloads\\FCR_enquiries.csv\" # Path to the enquiries data\n",
    "descriptions_path = r\"Downloads\\FCR_enquiries_descriptions.csv\"  # Path to the descriptions file\n",
    "\n",
    "# Load the datasets into DataFrames\n",
    "enquiries_df = pd.read_csv(enquiries_path)\n",
    "descriptions_df = pd.read_csv(descriptions_path)\n",
    "\n",
    "# Display basic information about the datasets\n",
    "print(\"Enquiries DataFrame:\")\n",
    "print(enquiries_df.info())"
   ]
  },
  {
   "cell_type": "code",
   "execution_count": 9,
   "metadata": {},
   "outputs": [
    {
     "name": "stdout",
     "output_type": "stream",
     "text": [
      "\n",
      "First few rows of Enquiries DataFrame:\n"
     ]
    },
    {
     "data": {
      "text/html": [
       "<div>\n",
       "<style scoped>\n",
       "    .dataframe tbody tr th:only-of-type {\n",
       "        vertical-align: middle;\n",
       "    }\n",
       "\n",
       "    .dataframe tbody tr th {\n",
       "        vertical-align: top;\n",
       "    }\n",
       "\n",
       "    .dataframe thead th {\n",
       "        text-align: right;\n",
       "    }\n",
       "</style>\n",
       "<table border=\"1\" class=\"dataframe\">\n",
       "  <thead>\n",
       "    <tr style=\"text-align: right;\">\n",
       "      <th></th>\n",
       "      <th>weddingid</th>\n",
       "      <th>suppId</th>\n",
       "      <th>ids</th>\n",
       "      <th>mobileApp</th>\n",
       "      <th>week</th>\n",
       "      <th>enquiryid</th>\n",
       "      <th>supplierTier</th>\n",
       "      <th>weddingDate</th>\n",
       "      <th>contactedSupplierCounty</th>\n",
       "      <th>year</th>\n",
       "      <th>...</th>\n",
       "      <th>smr_check</th>\n",
       "      <th>sm1_time</th>\n",
       "      <th>sm1_check</th>\n",
       "      <th>cmr_time</th>\n",
       "      <th>cmr_check</th>\n",
       "      <th>cm2_time</th>\n",
       "      <th>cm2_check</th>\n",
       "      <th>re_time</th>\n",
       "      <th>re_check</th>\n",
       "      <th>countryCode</th>\n",
       "    </tr>\n",
       "  </thead>\n",
       "  <tbody>\n",
       "    <tr>\n",
       "      <th>0</th>\n",
       "      <td>082b8833bb5a4b9f659e9b002afd7d68</td>\n",
       "      <td>947112947.0</td>\n",
       "      <td>082b8833bb5a4b9f659e9b002afd7d68947112947</td>\n",
       "      <td>True</td>\n",
       "      <td>45.0</td>\n",
       "      <td>8d0fe51421d8404c3f569b32aa663cd1</td>\n",
       "      <td>2.5</td>\n",
       "      <td>2027-06-01T00:00:00</td>\n",
       "      <td>Berkshire</td>\n",
       "      <td>2024.0</td>\n",
       "      <td>...</td>\n",
       "      <td>1.0</td>\n",
       "      <td>NaN</td>\n",
       "      <td>0.0</td>\n",
       "      <td>NaN</td>\n",
       "      <td>0.0</td>\n",
       "      <td>NaN</td>\n",
       "      <td>0.0</td>\n",
       "      <td>2024-11-11 12:26:54.000000 UTC</td>\n",
       "      <td>1.0</td>\n",
       "      <td>GB</td>\n",
       "    </tr>\n",
       "    <tr>\n",
       "      <th>1</th>\n",
       "      <td>f43cf857c5ef40f4e4a195e09ddd8f53</td>\n",
       "      <td>333500333.0</td>\n",
       "      <td>f43cf857c5ef40f4e4a195e09ddd8f53333500333</td>\n",
       "      <td>True</td>\n",
       "      <td>45.0</td>\n",
       "      <td>42c75c761dba4b6daf88a89516c9ba6d</td>\n",
       "      <td>-1.0</td>\n",
       "      <td>2025-09-01T00:00:00</td>\n",
       "      <td>City of Edinburgh</td>\n",
       "      <td>2024.0</td>\n",
       "      <td>...</td>\n",
       "      <td>0.0</td>\n",
       "      <td>NaN</td>\n",
       "      <td>0.0</td>\n",
       "      <td>NaN</td>\n",
       "      <td>0.0</td>\n",
       "      <td>NaN</td>\n",
       "      <td>0.0</td>\n",
       "      <td>NaN</td>\n",
       "      <td>0.0</td>\n",
       "      <td>GB</td>\n",
       "    </tr>\n",
       "    <tr>\n",
       "      <th>2</th>\n",
       "      <td>b8c38678e20f438ac932b20d9f920764</td>\n",
       "      <td>536004536.0</td>\n",
       "      <td>b8c38678e20f438ac932b20d9f920764536004536</td>\n",
       "      <td>True</td>\n",
       "      <td>45.0</td>\n",
       "      <td>e8738f9bb7a24116425a8ce241d6d069</td>\n",
       "      <td>2.5</td>\n",
       "      <td>2025-06-01T00:00:00</td>\n",
       "      <td>Lancashire</td>\n",
       "      <td>2024.0</td>\n",
       "      <td>...</td>\n",
       "      <td>1.0</td>\n",
       "      <td>NaN</td>\n",
       "      <td>0.0</td>\n",
       "      <td>NaN</td>\n",
       "      <td>0.0</td>\n",
       "      <td>NaN</td>\n",
       "      <td>0.0</td>\n",
       "      <td>2024-11-08 16:29:36.000000 UTC</td>\n",
       "      <td>1.0</td>\n",
       "      <td>GB</td>\n",
       "    </tr>\n",
       "    <tr>\n",
       "      <th>3</th>\n",
       "      <td>e225de3ab1dc4f756669984f77ea45e3</td>\n",
       "      <td>727007727.0</td>\n",
       "      <td>e225de3ab1dc4f756669984f77ea45e3727007727</td>\n",
       "      <td>True</td>\n",
       "      <td>45.0</td>\n",
       "      <td>9dfedcd5c7d04e63fbe3b06b16e89dff</td>\n",
       "      <td>3.0</td>\n",
       "      <td>NaN</td>\n",
       "      <td>Fife</td>\n",
       "      <td>2024.0</td>\n",
       "      <td>...</td>\n",
       "      <td>0.0</td>\n",
       "      <td>NaN</td>\n",
       "      <td>0.0</td>\n",
       "      <td>NaN</td>\n",
       "      <td>0.0</td>\n",
       "      <td>NaN</td>\n",
       "      <td>0.0</td>\n",
       "      <td>NaN</td>\n",
       "      <td>0.0</td>\n",
       "      <td>GB</td>\n",
       "    </tr>\n",
       "    <tr>\n",
       "      <th>4</th>\n",
       "      <td>3d94f06359e74588c626a70dce7a33ed</td>\n",
       "      <td>153010153.0</td>\n",
       "      <td>3d94f06359e74588c626a70dce7a33ed153010153</td>\n",
       "      <td>True</td>\n",
       "      <td>45.0</td>\n",
       "      <td>ce2339f5f24f4793a887a8fdc15af335</td>\n",
       "      <td>3.0</td>\n",
       "      <td>NaN</td>\n",
       "      <td>Aberdeenshire</td>\n",
       "      <td>2024.0</td>\n",
       "      <td>...</td>\n",
       "      <td>0.0</td>\n",
       "      <td>NaN</td>\n",
       "      <td>0.0</td>\n",
       "      <td>NaN</td>\n",
       "      <td>0.0</td>\n",
       "      <td>NaN</td>\n",
       "      <td>0.0</td>\n",
       "      <td>NaN</td>\n",
       "      <td>0.0</td>\n",
       "      <td>GB</td>\n",
       "    </tr>\n",
       "  </tbody>\n",
       "</table>\n",
       "<p>5 rows × 24 columns</p>\n",
       "</div>"
      ],
      "text/plain": [
       "                          weddingid       suppId  \\\n",
       "0  082b8833bb5a4b9f659e9b002afd7d68  947112947.0   \n",
       "1  f43cf857c5ef40f4e4a195e09ddd8f53  333500333.0   \n",
       "2  b8c38678e20f438ac932b20d9f920764  536004536.0   \n",
       "3  e225de3ab1dc4f756669984f77ea45e3  727007727.0   \n",
       "4  3d94f06359e74588c626a70dce7a33ed  153010153.0   \n",
       "\n",
       "                                         ids mobileApp  week  \\\n",
       "0  082b8833bb5a4b9f659e9b002afd7d68947112947      True  45.0   \n",
       "1  f43cf857c5ef40f4e4a195e09ddd8f53333500333      True  45.0   \n",
       "2  b8c38678e20f438ac932b20d9f920764536004536      True  45.0   \n",
       "3  e225de3ab1dc4f756669984f77ea45e3727007727      True  45.0   \n",
       "4  3d94f06359e74588c626a70dce7a33ed153010153      True  45.0   \n",
       "\n",
       "                          enquiryid  supplierTier          weddingDate  \\\n",
       "0  8d0fe51421d8404c3f569b32aa663cd1           2.5  2027-06-01T00:00:00   \n",
       "1  42c75c761dba4b6daf88a89516c9ba6d          -1.0  2025-09-01T00:00:00   \n",
       "2  e8738f9bb7a24116425a8ce241d6d069           2.5  2025-06-01T00:00:00   \n",
       "3  9dfedcd5c7d04e63fbe3b06b16e89dff           3.0                  NaN   \n",
       "4  ce2339f5f24f4793a887a8fdc15af335           3.0                  NaN   \n",
       "\n",
       "  contactedSupplierCounty    year  ... smr_check sm1_time  sm1_check cmr_time  \\\n",
       "0               Berkshire  2024.0  ...       1.0      NaN        0.0      NaN   \n",
       "1       City of Edinburgh  2024.0  ...       0.0      NaN        0.0      NaN   \n",
       "2              Lancashire  2024.0  ...       1.0      NaN        0.0      NaN   \n",
       "3                    Fife  2024.0  ...       0.0      NaN        0.0      NaN   \n",
       "4           Aberdeenshire  2024.0  ...       0.0      NaN        0.0      NaN   \n",
       "\n",
       "   cmr_check cm2_time  cm2_check                         re_time  re_check  \\\n",
       "0        0.0      NaN        0.0  2024-11-11 12:26:54.000000 UTC       1.0   \n",
       "1        0.0      NaN        0.0                             NaN       0.0   \n",
       "2        0.0      NaN        0.0  2024-11-08 16:29:36.000000 UTC       1.0   \n",
       "3        0.0      NaN        0.0                             NaN       0.0   \n",
       "4        0.0      NaN        0.0                             NaN       0.0   \n",
       "\n",
       "  countryCode  \n",
       "0         GB   \n",
       "1          GB  \n",
       "2          GB  \n",
       "3          GB  \n",
       "4         GB   \n",
       "\n",
       "[5 rows x 24 columns]"
      ]
     },
     "execution_count": 9,
     "metadata": {},
     "output_type": "execute_result"
    }
   ],
   "source": [
    "print(\"\\nFirst few rows of Enquiries DataFrame:\")\n",
    "enquiries_df.head()"
   ]
  },
  {
   "cell_type": "markdown",
   "metadata": {},
   "source": [
    "The initial exploration of the dataset shows that it contains 3,053 rows and 24 columns. Key columns include supplierTier (supplier categorization), smr_check, sm1_check, and cmr_check (steps in the FCR funnel). There are notable missing values in several fields such as weddingDate and supplierTier. Therefore, the data cleaning steps will focus on removing duplicates, addressing missing values, and ensuring data types align with their intended usage."
   ]
  },
  {
   "cell_type": "code",
   "execution_count": 10,
   "metadata": {},
   "outputs": [
    {
     "name": "stdout",
     "output_type": "stream",
     "text": [
      "\n",
      "Descriptions DataFrame:\n"
     ]
    },
    {
     "data": {
      "text/html": [
       "<div>\n",
       "<style scoped>\n",
       "    .dataframe tbody tr th:only-of-type {\n",
       "        vertical-align: middle;\n",
       "    }\n",
       "\n",
       "    .dataframe tbody tr th {\n",
       "        vertical-align: top;\n",
       "    }\n",
       "\n",
       "    .dataframe thead th {\n",
       "        text-align: right;\n",
       "    }\n",
       "</style>\n",
       "<table border=\"1\" class=\"dataframe\">\n",
       "  <thead>\n",
       "    <tr style=\"text-align: right;\">\n",
       "      <th></th>\n",
       "      <th>field_path</th>\n",
       "      <th>data_type</th>\n",
       "      <th>description</th>\n",
       "    </tr>\n",
       "  </thead>\n",
       "  <tbody>\n",
       "    <tr>\n",
       "      <th>0</th>\n",
       "      <td>weddingid</td>\n",
       "      <td>STRING</td>\n",
       "      <td>ID of wedding of couple enquiring</td>\n",
       "    </tr>\n",
       "    <tr>\n",
       "      <th>1</th>\n",
       "      <td>suppId</td>\n",
       "      <td>STRING</td>\n",
       "      <td>ID of supplier enquired to</td>\n",
       "    </tr>\n",
       "    <tr>\n",
       "      <th>2</th>\n",
       "      <td>ids</td>\n",
       "      <td>STRING</td>\n",
       "      <td>Concatenation of weddingid and supplier id</td>\n",
       "    </tr>\n",
       "    <tr>\n",
       "      <th>3</th>\n",
       "      <td>mobileApp</td>\n",
       "      <td>BOOL</td>\n",
       "      <td>Enquiry-level property taken from emailed_supp...</td>\n",
       "    </tr>\n",
       "    <tr>\n",
       "      <th>4</th>\n",
       "      <td>week</td>\n",
       "      <td>INT64</td>\n",
       "      <td>Calendar week of the enquiry</td>\n",
       "    </tr>\n",
       "    <tr>\n",
       "      <th>5</th>\n",
       "      <td>enquiryid</td>\n",
       "      <td>STRING</td>\n",
       "      <td>Enquiry-level property taken from emailed_supp...</td>\n",
       "    </tr>\n",
       "    <tr>\n",
       "      <th>6</th>\n",
       "      <td>supplierTier</td>\n",
       "      <td>FLOAT64</td>\n",
       "      <td>Supplier-level property taken from suppliers_c...</td>\n",
       "    </tr>\n",
       "    <tr>\n",
       "      <th>7</th>\n",
       "      <td>weddingDate</td>\n",
       "      <td>STRING</td>\n",
       "      <td>Enquiry-level property taken from emailed_supp...</td>\n",
       "    </tr>\n",
       "    <tr>\n",
       "      <th>8</th>\n",
       "      <td>contactedSupplierCounty</td>\n",
       "      <td>STRING</td>\n",
       "      <td>Enquiry-level property taken from emailed_supp...</td>\n",
       "    </tr>\n",
       "    <tr>\n",
       "      <th>9</th>\n",
       "      <td>year</td>\n",
       "      <td>INT64</td>\n",
       "      <td>Year of enquiry</td>\n",
       "    </tr>\n",
       "    <tr>\n",
       "      <th>10</th>\n",
       "      <td>weekStartDt</td>\n",
       "      <td>DATE</td>\n",
       "      <td>Start date of the week of enquiry (Monday)</td>\n",
       "    </tr>\n",
       "    <tr>\n",
       "      <th>11</th>\n",
       "      <td>enqTime</td>\n",
       "      <td>TIMESTAMP</td>\n",
       "      <td>Enquiry-level property taken from emailed_supp...</td>\n",
       "    </tr>\n",
       "    <tr>\n",
       "      <th>12</th>\n",
       "      <td>cm1_check</td>\n",
       "      <td>INT64</td>\n",
       "      <td>Indicator for step 1 of FCR funnel i.e. couple...</td>\n",
       "    </tr>\n",
       "    <tr>\n",
       "      <th>13</th>\n",
       "      <td>smr_time</td>\n",
       "      <td>TIMESTAMP</td>\n",
       "      <td>Timestamp for step 2 of FCR funnel i.e. suppli...</td>\n",
       "    </tr>\n",
       "    <tr>\n",
       "      <th>14</th>\n",
       "      <td>smr_check</td>\n",
       "      <td>INT64</td>\n",
       "      <td>Indicator for step 2 of FCR funnel i.e. suppli...</td>\n",
       "    </tr>\n",
       "    <tr>\n",
       "      <th>15</th>\n",
       "      <td>sm1_time</td>\n",
       "      <td>TIMESTAMP</td>\n",
       "      <td>Timestamp for step 3 of FCR funnel i.e. suppli...</td>\n",
       "    </tr>\n",
       "    <tr>\n",
       "      <th>16</th>\n",
       "      <td>sm1_check</td>\n",
       "      <td>INT64</td>\n",
       "      <td>Indicator for step 3 of FCR funnel i.e. suppli...</td>\n",
       "    </tr>\n",
       "    <tr>\n",
       "      <th>17</th>\n",
       "      <td>cmr_time</td>\n",
       "      <td>TIMESTAMP</td>\n",
       "      <td>Timestamp for step 4 of FCR funnel i.e. couple...</td>\n",
       "    </tr>\n",
       "    <tr>\n",
       "      <th>18</th>\n",
       "      <td>cmr_check</td>\n",
       "      <td>INT64</td>\n",
       "      <td>Indicator for step 4 of FCR funnel i.e. couple...</td>\n",
       "    </tr>\n",
       "    <tr>\n",
       "      <th>19</th>\n",
       "      <td>cm2_time</td>\n",
       "      <td>TIMESTAMP</td>\n",
       "      <td>Timestamp for step 5 of FCR funnel i.e. couple...</td>\n",
       "    </tr>\n",
       "    <tr>\n",
       "      <th>20</th>\n",
       "      <td>cm2_check</td>\n",
       "      <td>INT64</td>\n",
       "      <td>Indicator for step 5 of FCR funnel i.e. couple...</td>\n",
       "    </tr>\n",
       "    <tr>\n",
       "      <th>21</th>\n",
       "      <td>re_time</td>\n",
       "      <td>TIMESTAMP</td>\n",
       "      <td>Timestamp for alternative step of FCR funnel i...</td>\n",
       "    </tr>\n",
       "    <tr>\n",
       "      <th>22</th>\n",
       "      <td>re_check</td>\n",
       "      <td>INT64</td>\n",
       "      <td>Indicator for alternative step of FCR funnel i...</td>\n",
       "    </tr>\n",
       "    <tr>\n",
       "      <th>23</th>\n",
       "      <td>countryCode</td>\n",
       "      <td>STRING</td>\n",
       "      <td>Supplier-level property taken from suppliers_c...</td>\n",
       "    </tr>\n",
       "  </tbody>\n",
       "</table>\n",
       "</div>"
      ],
      "text/plain": [
       "                 field_path  data_type  \\\n",
       "0                 weddingid     STRING   \n",
       "1                    suppId     STRING   \n",
       "2                       ids     STRING   \n",
       "3                 mobileApp       BOOL   \n",
       "4                      week      INT64   \n",
       "5                 enquiryid     STRING   \n",
       "6              supplierTier    FLOAT64   \n",
       "7               weddingDate     STRING   \n",
       "8   contactedSupplierCounty     STRING   \n",
       "9                      year      INT64   \n",
       "10              weekStartDt       DATE   \n",
       "11                  enqTime  TIMESTAMP   \n",
       "12                cm1_check      INT64   \n",
       "13                 smr_time  TIMESTAMP   \n",
       "14                smr_check      INT64   \n",
       "15                 sm1_time  TIMESTAMP   \n",
       "16                sm1_check      INT64   \n",
       "17                 cmr_time  TIMESTAMP   \n",
       "18                cmr_check      INT64   \n",
       "19                 cm2_time  TIMESTAMP   \n",
       "20                cm2_check      INT64   \n",
       "21                  re_time  TIMESTAMP   \n",
       "22                 re_check      INT64   \n",
       "23              countryCode     STRING   \n",
       "\n",
       "                                          description  \n",
       "0                   ID of wedding of couple enquiring  \n",
       "1                          ID of supplier enquired to  \n",
       "2          Concatenation of weddingid and supplier id  \n",
       "3   Enquiry-level property taken from emailed_supp...  \n",
       "4                        Calendar week of the enquiry  \n",
       "5   Enquiry-level property taken from emailed_supp...  \n",
       "6   Supplier-level property taken from suppliers_c...  \n",
       "7   Enquiry-level property taken from emailed_supp...  \n",
       "8   Enquiry-level property taken from emailed_supp...  \n",
       "9                                     Year of enquiry  \n",
       "10         Start date of the week of enquiry (Monday)  \n",
       "11  Enquiry-level property taken from emailed_supp...  \n",
       "12  Indicator for step 1 of FCR funnel i.e. couple...  \n",
       "13  Timestamp for step 2 of FCR funnel i.e. suppli...  \n",
       "14  Indicator for step 2 of FCR funnel i.e. suppli...  \n",
       "15  Timestamp for step 3 of FCR funnel i.e. suppli...  \n",
       "16  Indicator for step 3 of FCR funnel i.e. suppli...  \n",
       "17  Timestamp for step 4 of FCR funnel i.e. couple...  \n",
       "18  Indicator for step 4 of FCR funnel i.e. couple...  \n",
       "19  Timestamp for step 5 of FCR funnel i.e. couple...  \n",
       "20  Indicator for step 5 of FCR funnel i.e. couple...  \n",
       "21  Timestamp for alternative step of FCR funnel i...  \n",
       "22  Indicator for alternative step of FCR funnel i...  \n",
       "23  Supplier-level property taken from suppliers_c...  "
      ]
     },
     "execution_count": 10,
     "metadata": {},
     "output_type": "execute_result"
    }
   ],
   "source": [
    "print(\"\\nDescriptions DataFrame:\")\n",
    "descriptions_df"
   ]
  },
  {
   "cell_type": "markdown",
   "metadata": {},
   "source": [
    "The output of this step shows that the descriptions dataframe provides metadata about the columns in the FCR_enquiries dataset, including their names, data types, and explanations of their contents. We can observe unique identifiers for weddings (weddingid) and suppliers (suppId), temporal data (weekStartDt, enqTime), and step indicators in the FCR funnel (cm1_check to cm2_check). It also includes supplier properties like supplierTier and location details (countryCode, contactedSupplierCounty). The dataset tracks interactions between couples and suppliers, focusing on engagement metrics such as timestamps for funnel steps and whether those steps were completed."
   ]
  },
  {
   "cell_type": "markdown",
   "metadata": {},
   "source": [
    "## Data Preprocessing"
   ]
  },
  {
   "cell_type": "markdown",
   "metadata": {},
   "source": [
    "### Step 1: Remove duplicates"
   ]
  },
  {
   "cell_type": "code",
   "execution_count": 11,
   "metadata": {},
   "outputs": [
    {
     "name": "stdout",
     "output_type": "stream",
     "text": [
      "Initial number of rows: 7399\n",
      "Number of rows after removing duplicates: 2858\n"
     ]
    }
   ],
   "source": [
    "print(f\"Initial number of rows: {enquiries_df.shape[0]}\")\n",
    "enquiries_df.drop_duplicates(inplace=True)\n",
    "print(f\"Number of rows after removing duplicates: {enquiries_df.shape[0]}\")\n"
   ]
  },
  {
   "cell_type": "markdown",
   "metadata": {},
   "source": [
    "### Step 2: Convert date fields to datetime"
   ]
  },
  {
   "cell_type": "code",
   "execution_count": 12,
   "metadata": {},
   "outputs": [],
   "source": [
    "date_columns = ['weddingDate', 'weekStartDt', 'enqTime', 'smr_time', 'sm1_time', 'cmr_time', 'cm2_time', 're_time']\n",
    "for col in date_columns:\n",
    "    enquiries_df[col] = pd.to_datetime(enquiries_df[col], errors='coerce')"
   ]
  },
  {
   "cell_type": "markdown",
   "metadata": {},
   "source": [
    "### Step 3: Summary of missing values"
   ]
  },
  {
   "cell_type": "code",
   "execution_count": 13,
   "metadata": {},
   "outputs": [
    {
     "name": "stdout",
     "output_type": "stream",
     "text": [
      "\n",
      "Missing values per column:\n",
      "weddingid                     1\n",
      "suppId                        1\n",
      "ids                           1\n",
      "mobileApp                     1\n",
      "week                          1\n",
      "enquiryid                     1\n",
      "supplierTier                910\n",
      "weddingDate                  57\n",
      "contactedSupplierCounty       1\n",
      "year                          1\n",
      "weekStartDt                1287\n",
      "enqTime                       1\n",
      "cm1_check                     1\n",
      "smr_time                    944\n",
      "smr_check                     1\n",
      "sm1_time                   1442\n",
      "sm1_check                     1\n",
      "cmr_time                   1905\n",
      "cmr_check                     1\n",
      "cm2_time                   2617\n",
      "cm2_check                     1\n",
      "re_time                    2438\n",
      "re_check                      1\n",
      "countryCode                   1\n",
      "dtype: int64\n"
     ]
    }
   ],
   "source": [
    "print(\"\\nMissing values per column:\")\n",
    "print(enquiries_df.isnull().sum())"
   ]
  },
  {
   "cell_type": "markdown",
   "metadata": {},
   "source": [
    "Further exploration of the dataset shows that it contains minimal missing values (1 per column) in fields like weddingid, suppId, and countryCode, which can be addressed by dropping the affected rows due to their negligible impact. Numerous missing values in supplierTier (910) will be handled by filtering them out in tier-specific analyses (Objective 1). Missing timestamps in columns like smr_time and sm1_time likely reflect incomplete steps in the FCR funnel and can be left as NaT. Non-critical columns like weddingDate and weekStartDt with moderate missing values will also remain as NaT unless specifically required for analyses."
   ]
  },
  {
   "cell_type": "markdown",
   "metadata": {},
   "source": [
    "### 4. Handling missing values"
   ]
  },
  {
   "cell_type": "code",
   "execution_count": 14,
   "metadata": {},
   "outputs": [
    {
     "name": "stdout",
     "output_type": "stream",
     "text": [
      "Summary of missing values after handling:\n",
      "weddingid                     0\n",
      "suppId                        0\n",
      "ids                           0\n",
      "mobileApp                     0\n",
      "week                          0\n",
      "enquiryid                     0\n",
      "supplierTier                  0\n",
      "weddingDate                  56\n",
      "contactedSupplierCounty       0\n",
      "year                          0\n",
      "weekStartDt                1286\n",
      "enqTime                       0\n",
      "cm1_check                     0\n",
      "smr_time                    943\n",
      "smr_check                     0\n",
      "sm1_time                   1441\n",
      "sm1_check                     0\n",
      "cmr_time                   1904\n",
      "cmr_check                     0\n",
      "cm2_time                   2616\n",
      "cm2_check                     0\n",
      "re_time                    2437\n",
      "re_check                      0\n",
      "countryCode                   0\n",
      "dtype: int64\n"
     ]
    }
   ],
   "source": [
    "# Fill missing values in supplierTier with 'Unknown'\n",
    "enquiries_df['supplierTier'] = enquiries_df['supplierTier'].fillna('Unknown')\n",
    "\n",
    "# Drop rows with minimal missing values (1 missing value per column in critical fields)\n",
    "minimal_missing_cols = [\n",
    "    'weddingid', 'suppId', 'ids', 'mobileApp', 'week', 'enquiryid', \n",
    "    'contactedSupplierCounty', 'year', 'enqTime', 'cm1_check', \n",
    "    'smr_check', 'sm1_check', 'cmr_check', 'cm2_check', 're_check', \n",
    "    'countryCode'\n",
    "]\n",
    "enquiries_df.dropna(subset=minimal_missing_cols, inplace=True)\n",
    "\n",
    "# Replace missing timestamps with NaT\n",
    "timestamp_columns = [\n",
    "    'weddingDate', 'weekStartDt', 'smr_time', 'sm1_time', 'cmr_time', \n",
    "    'cm2_time', 're_time'\n",
    "]\n",
    "enquiries_df[timestamp_columns] = enquiries_df[timestamp_columns].fillna(pd.NaT)\n",
    "\n",
    "# Display the summary of missing values after handling\n",
    "print(\"Summary of missing values after handling:\")\n",
    "print(enquiries_df.isnull().sum())\n"
   ]
  },
  {
   "cell_type": "markdown",
   "metadata": {},
   "source": [
    "The resuls in this step show that missing value handling step was successful. All critical columns with minimal missing values now have no missing data after dropping affected rows. Missing values in supplierTier have been filled with \"Unknown.\" Timestamp columns still retain missing values (weddingDate, weekStartDt, smr_time, etc.), appropriately replaced with NaT to indicate incomplete funnel steps or unavailable data. "
   ]
  },
  {
   "cell_type": "code",
   "execution_count": 15,
   "metadata": {},
   "outputs": [
    {
     "name": "stdout",
     "output_type": "stream",
     "text": [
      "[' GB ' 'GB' ' FR ' 'FR']\n"
     ]
    }
   ],
   "source": [
    "print(enquiries_df['countryCode'].unique())"
   ]
  },
  {
   "cell_type": "code",
   "execution_count": 16,
   "metadata": {},
   "outputs": [],
   "source": [
    "# Remove leading and trailing spaces from the 'countryCode' column\n",
    "enquiries_df['countryCode'] = enquiries_df['countryCode'].str.strip()\n",
    "enquiries_df['countryCode'] = enquiries_df['countryCode'].astype(str)\n"
   ]
  },
  {
   "cell_type": "markdown",
   "metadata": {},
   "source": [
    "# Exploratory Data Analysis"
   ]
  },
  {
   "cell_type": "markdown",
   "metadata": {},
   "source": [
    "### 1. Create a visualisation to show how supplier read rate differs across supplier tier. Are there any trends that you can identify?"
   ]
  },
  {
   "cell_type": "code",
   "execution_count": 17,
   "metadata": {},
   "outputs": [
    {
     "data": {
      "image/png": "[encoded data removed]",
      "text/plain": [
       "<Figure size 1000x600 with 1 Axes>"
      ]
     },
     "metadata": {},
     "output_type": "display_data"
    }
   ],
   "source": [
    "# Calculate read rate per supplier tier\n",
    "enquiries_df['supplier_read_rate'] = enquiries_df['smr_check']\n",
    "read_rate_by_tier = enquiries_df.groupby('supplierTier')['supplier_read_rate'].mean().reset_index()\n",
    "# Sort by read rate in descending order\n",
    "read_rate_by_tier = read_rate_by_tier.sort_values('supplier_read_rate', ascending=False)\n",
    "# Plotting\n",
    "plt.figure(figsize=(10, 6))\n",
    "sns.barplot(x='supplierTier', y='supplier_read_rate', data=read_rate_by_tier)\n",
    "plt.title('Supplier Read Rate Across Supplier Tiers')\n",
    "plt.xlabel('Supplier Tier')\n",
    "plt.ylabel('Read Rate')\n",
    "plt.show()\n"
   ]
  },
  {
   "cell_type": "markdown",
   "metadata": {},
   "source": [
    "The bar plot reveals significant variation in engagement levels. Suppliers in Tier 2.0 and Tier 4.0 exhibit the highest read rates, both reaching 1.0, indicating strong engagement with the platform's enquiries. Tier 3.0 follows closely with a read rate of 0.92, while Tier 2.5 shows a slightly lower rate of 0.85. Tier 0.0 demonstrates moderate engagement with a read rate of 0.56, and the Unknown tier has the lowest read rate at 0.31, suggesting less engagement from suppliers without a specified tier. Similarly, Tier -1.0 shows a low read rate of 0.55, indicating that suppliers in lower or unspecified tiers are less responsive. Overall, the data suggests that higher-tier suppliers tend to have better engagement with the platform compared to those in lower or unknown tiers."
   ]
  },
  {
   "cell_type": "markdown",
   "metadata": {},
   "source": [
    "### 2. Identify 5 suppliers with the highest supplier response rates and 5 with the lowest supplier response rate, out of suppliers for countrycode FR that have received at least 10 enquiries. What do you notice about these lists?"
   ]
  },
  {
   "cell_type": "code",
   "execution_count": 18,
   "metadata": {},
   "outputs": [
    {
     "name": "stdout",
     "output_type": "stream",
     "text": [
      "Top 5 Suppliers (Highest Response Rates):\n",
      "Empty DataFrame\n",
      "Columns: [suppId, response_rate]\n",
      "Index: []\n",
      "\n",
      "Bottom 5 Suppliers (Lowest Response Rates):\n",
      "Empty DataFrame\n",
      "Columns: [suppId, response_rate]\n",
      "Index: []\n"
     ]
    }
   ],
   "source": [
    "# Filter data for country code FR and suppliers with at least 10 enquiries\n",
    "fr_suppliers = enquiries_df[enquiries_df['countryCode'] == 'FR']\n",
    "supplier_response_counts = fr_suppliers.groupby('suppId').size()\n",
    "eligible_suppliers = supplier_response_counts[supplier_response_counts >= 10].index\n",
    "fr_suppliers = fr_suppliers[fr_suppliers['suppId'].isin(eligible_suppliers)]\n",
    "\n",
    "# Calculate response rate per supplier\n",
    "fr_suppliers['response_rate'] = fr_suppliers['sm1_check']\n",
    "response_rate_by_supplier = fr_suppliers.groupby('suppId')['response_rate'].mean().reset_index()\n",
    "\n",
    "# Identify top 5 and bottom 5 suppliers\n",
    "top_5_suppliers = response_rate_by_supplier.nlargest(5, 'response_rate')\n",
    "bottom_5_suppliers = response_rate_by_supplier.nsmallest(5, 'response_rate')\n",
    "\n",
    "print(\"Top 5 Suppliers (Highest Response Rates):\")\n",
    "print(top_5_suppliers)\n",
    "\n",
    "print(\"\\nBottom 5 Suppliers (Lowest Response Rates):\")\n",
    "print(bottom_5_suppliers)\n"
   ]
  },
  {
   "cell_type": "code",
   "execution_count": 19,
   "metadata": {},
   "outputs": [
    {
     "data": {
      "text/html": [
       "<div>\n",
       "<style scoped>\n",
       "    .dataframe tbody tr th:only-of-type {\n",
       "        vertical-align: middle;\n",
       "    }\n",
       "\n",
       "    .dataframe tbody tr th {\n",
       "        vertical-align: top;\n",
       "    }\n",
       "\n",
       "    .dataframe thead th {\n",
       "        text-align: right;\n",
       "    }\n",
       "</style>\n",
       "<table border=\"1\" class=\"dataframe\">\n",
       "  <thead>\n",
       "    <tr style=\"text-align: right;\">\n",
       "      <th></th>\n",
       "      <th>weddingid</th>\n",
       "      <th>suppId</th>\n",
       "      <th>ids</th>\n",
       "      <th>mobileApp</th>\n",
       "      <th>week</th>\n",
       "      <th>enquiryid</th>\n",
       "      <th>supplierTier</th>\n",
       "      <th>weddingDate</th>\n",
       "      <th>contactedSupplierCounty</th>\n",
       "      <th>year</th>\n",
       "      <th>...</th>\n",
       "      <th>sm1_time</th>\n",
       "      <th>sm1_check</th>\n",
       "      <th>cmr_time</th>\n",
       "      <th>cmr_check</th>\n",
       "      <th>cm2_time</th>\n",
       "      <th>cm2_check</th>\n",
       "      <th>re_time</th>\n",
       "      <th>re_check</th>\n",
       "      <th>countryCode</th>\n",
       "      <th>supplier_read_rate</th>\n",
       "    </tr>\n",
       "  </thead>\n",
       "  <tbody>\n",
       "    <tr>\n",
       "      <th>10</th>\n",
       "      <td>3f7434c4a6c3426e5291824ecdbc3e6e</td>\n",
       "      <td>2.900000e+10</td>\n",
       "      <td>3f7434c4a6c3426e5291824ecdbc3e6e29000000290</td>\n",
       "      <td>False</td>\n",
       "      <td>45.0</td>\n",
       "      <td>6c0cb3a680d847aec076ad72e23acb3c</td>\n",
       "      <td>Unknown</td>\n",
       "      <td>2026-03-01</td>\n",
       "      <td>Meuse</td>\n",
       "      <td>2024.0</td>\n",
       "      <td>...</td>\n",
       "      <td>NaT</td>\n",
       "      <td>0.0</td>\n",
       "      <td>NaT</td>\n",
       "      <td>0.0</td>\n",
       "      <td>NaT</td>\n",
       "      <td>0.0</td>\n",
       "      <td>NaT</td>\n",
       "      <td>0.0</td>\n",
       "      <td>FR</td>\n",
       "      <td>0.0</td>\n",
       "    </tr>\n",
       "    <tr>\n",
       "      <th>11</th>\n",
       "      <td>abbfc2539ed14a2ba18f9bd1aef4cd53</td>\n",
       "      <td>2.440000e+10</td>\n",
       "      <td>abbfc2539ed14a2ba18f9bd1aef4cd5324400001244</td>\n",
       "      <td>False</td>\n",
       "      <td>45.0</td>\n",
       "      <td>ca8da5efc4404c0c9e1c9722ac91e4ce</td>\n",
       "      <td>Unknown</td>\n",
       "      <td>2025-05-01</td>\n",
       "      <td>Oise</td>\n",
       "      <td>2024.0</td>\n",
       "      <td>...</td>\n",
       "      <td>NaT</td>\n",
       "      <td>0.0</td>\n",
       "      <td>NaT</td>\n",
       "      <td>0.0</td>\n",
       "      <td>NaT</td>\n",
       "      <td>0.0</td>\n",
       "      <td>NaT</td>\n",
       "      <td>0.0</td>\n",
       "      <td>FR</td>\n",
       "      <td>0.0</td>\n",
       "    </tr>\n",
       "    <tr>\n",
       "      <th>12</th>\n",
       "      <td>01075195ee734f75aae6a2ea112d5ec2</td>\n",
       "      <td>8.860000e+10</td>\n",
       "      <td>01075195ee734f75aae6a2ea112d5ec288600003886</td>\n",
       "      <td>True</td>\n",
       "      <td>45.0</td>\n",
       "      <td>22bfedd6dbb444e6c2e3b08c01ecd773</td>\n",
       "      <td>Unknown</td>\n",
       "      <td>2026-05-01</td>\n",
       "      <td>Essonne</td>\n",
       "      <td>2024.0</td>\n",
       "      <td>...</td>\n",
       "      <td>NaT</td>\n",
       "      <td>0.0</td>\n",
       "      <td>NaT</td>\n",
       "      <td>0.0</td>\n",
       "      <td>NaT</td>\n",
       "      <td>0.0</td>\n",
       "      <td>NaT</td>\n",
       "      <td>0.0</td>\n",
       "      <td>FR</td>\n",
       "      <td>0.0</td>\n",
       "    </tr>\n",
       "    <tr>\n",
       "      <th>13</th>\n",
       "      <td>a31ddb010f1b41852b20b7461448d25e</td>\n",
       "      <td>3.350001e+10</td>\n",
       "      <td>a31ddb010f1b41852b20b7461448d25e33500005335</td>\n",
       "      <td>True</td>\n",
       "      <td>45.0</td>\n",
       "      <td>de96a5b057544840d2dcb85e6e94c0e7</td>\n",
       "      <td>Unknown</td>\n",
       "      <td>2025-09-01</td>\n",
       "      <td>Seine-et-Marne</td>\n",
       "      <td>2024.0</td>\n",
       "      <td>...</td>\n",
       "      <td>NaT</td>\n",
       "      <td>0.0</td>\n",
       "      <td>NaT</td>\n",
       "      <td>0.0</td>\n",
       "      <td>NaT</td>\n",
       "      <td>0.0</td>\n",
       "      <td>NaT</td>\n",
       "      <td>0.0</td>\n",
       "      <td>FR</td>\n",
       "      <td>0.0</td>\n",
       "    </tr>\n",
       "    <tr>\n",
       "      <th>25</th>\n",
       "      <td>9c156f2d5c9348d816b0844b9bd073f7</td>\n",
       "      <td>8.590000e+10</td>\n",
       "      <td>9c156f2d5c9348d816b0844b9bd073f785900003859</td>\n",
       "      <td>True</td>\n",
       "      <td>45.0</td>\n",
       "      <td>86650a4f2c954841f678b007ce45eaad</td>\n",
       "      <td>Unknown</td>\n",
       "      <td>2026-07-01</td>\n",
       "      <td>Indre-et-Loire</td>\n",
       "      <td>2024.0</td>\n",
       "      <td>...</td>\n",
       "      <td>2024-11-08 10:06:10+00:00</td>\n",
       "      <td>1.0</td>\n",
       "      <td>2024-11-11 07:53:13+00:00</td>\n",
       "      <td>1.0</td>\n",
       "      <td>NaT</td>\n",
       "      <td>0.0</td>\n",
       "      <td>NaT</td>\n",
       "      <td>0.0</td>\n",
       "      <td>FR</td>\n",
       "      <td>1.0</td>\n",
       "    </tr>\n",
       "  </tbody>\n",
       "</table>\n",
       "<p>5 rows × 25 columns</p>\n",
       "</div>"
      ],
      "text/plain": [
       "                           weddingid        suppId  \\\n",
       "10  3f7434c4a6c3426e5291824ecdbc3e6e  2.900000e+10   \n",
       "11  abbfc2539ed14a2ba18f9bd1aef4cd53  2.440000e+10   \n",
       "12  01075195ee734f75aae6a2ea112d5ec2  8.860000e+10   \n",
       "13  a31ddb010f1b41852b20b7461448d25e  3.350001e+10   \n",
       "25  9c156f2d5c9348d816b0844b9bd073f7  8.590000e+10   \n",
       "\n",
       "                                            ids mobileApp  week  \\\n",
       "10  3f7434c4a6c3426e5291824ecdbc3e6e29000000290     False  45.0   \n",
       "11  abbfc2539ed14a2ba18f9bd1aef4cd5324400001244     False  45.0   \n",
       "12  01075195ee734f75aae6a2ea112d5ec288600003886      True  45.0   \n",
       "13  a31ddb010f1b41852b20b7461448d25e33500005335      True  45.0   \n",
       "25  9c156f2d5c9348d816b0844b9bd073f785900003859      True  45.0   \n",
       "\n",
       "                           enquiryid supplierTier weddingDate  \\\n",
       "10  6c0cb3a680d847aec076ad72e23acb3c      Unknown  2026-03-01   \n",
       "11  ca8da5efc4404c0c9e1c9722ac91e4ce      Unknown  2025-05-01   \n",
       "12  22bfedd6dbb444e6c2e3b08c01ecd773      Unknown  2026-05-01   \n",
       "13  de96a5b057544840d2dcb85e6e94c0e7      Unknown  2025-09-01   \n",
       "25  86650a4f2c954841f678b007ce45eaad      Unknown  2026-07-01   \n",
       "\n",
       "   contactedSupplierCounty    year  ...                  sm1_time sm1_check  \\\n",
       "10                   Meuse  2024.0  ...                       NaT       0.0   \n",
       "11                    Oise  2024.0  ...                       NaT       0.0   \n",
       "12                 Essonne  2024.0  ...                       NaT       0.0   \n",
       "13          Seine-et-Marne  2024.0  ...                       NaT       0.0   \n",
       "25          Indre-et-Loire  2024.0  ... 2024-11-08 10:06:10+00:00       1.0   \n",
       "\n",
       "                    cmr_time cmr_check  cm2_time cm2_check  re_time re_check  \\\n",
       "10                       NaT       0.0       NaT       0.0      NaT      0.0   \n",
       "11                       NaT       0.0       NaT       0.0      NaT      0.0   \n",
       "12                       NaT       0.0       NaT       0.0      NaT      0.0   \n",
       "13                       NaT       0.0       NaT       0.0      NaT      0.0   \n",
       "25 2024-11-11 07:53:13+00:00       1.0       NaT       0.0      NaT      0.0   \n",
       "\n",
       "    countryCode supplier_read_rate  \n",
       "10           FR                0.0  \n",
       "11           FR                0.0  \n",
       "12           FR                0.0  \n",
       "13           FR                0.0  \n",
       "25           FR                1.0  \n",
       "\n",
       "[5 rows x 25 columns]"
      ]
     },
     "execution_count": 19,
     "metadata": {},
     "output_type": "execute_result"
    }
   ],
   "source": [
    "fr_suppliers = enquiries_df[enquiries_df['countryCode'] == 'FR']\n",
    "fr_suppliers.head()"
   ]
  },
  {
   "cell_type": "markdown",
   "metadata": {},
   "source": [
    "### 3 . Distribution of Initial Enquiries Sent Per Wedding (for Country Code GB)"
   ]
  },
  {
   "cell_type": "code",
   "execution_count": 20,
   "metadata": {},
   "outputs": [
    {
     "data": {
      "image/png": "[encoded data removed]",
      "text/plain": [
       "<Figure size 1000x600 with 1 Axes>"
      ]
     },
     "metadata": {},
     "output_type": "display_data"
    },
    {
     "name": "stdout",
     "output_type": "stream",
     "text": [
      "Mean number of enquiries per wedding (GB): 2.065380493033226\n",
      "Mode number of enquiries per wedding (GB): 1\n"
     ]
    }
   ],
   "source": [
    "# Filter data for country code GB\n",
    "gb_data = enquiries_df[enquiries_df['countryCode'] == 'GB']\n",
    "\n",
    "# Calculate the number of enquiries per wedding\n",
    "enquiries_per_wedding = gb_data.groupby('weddingid').size()\n",
    "\n",
    "# Plot the distribution\n",
    "plt.figure(figsize=(10, 6))\n",
    "sns.histplot(enquiries_per_wedding, bins=20, kde=True)\n",
    "plt.title('Distribution of Initial Enquiries Sent Per Wedding (GB)')\n",
    "plt.xlabel('Number of Enquiries')\n",
    "plt.ylabel('Frequency')\n",
    "plt.show()\n",
    "\n",
    "# Calculate mean and mode\n",
    "mean_enquiries = enquiries_per_wedding.mean()\n",
    "mode_enquiries = enquiries_per_wedding.mode()[0]\n",
    "\n",
    "print(f\"Mean number of enquiries per wedding (GB): {mean_enquiries}\")\n",
    "print(f\"Mode number of enquiries per wedding (GB): {mode_enquiries}\")\n"
   ]
  },
  {
   "cell_type": "markdown",
   "metadata": {},
   "source": [
    "The histogram reveals that most weddings in Great Britain tend to send between 0 and 5 initial enquiries, indicating a low level of initial outreach. The distribution is right-skewed, suggesting that while the majority of weddings send a small number of enquiries, there are a few that send significantly more. The frequency of weddings sending more than 10 enquiries is low, indicating that such cases are uncommon. The overall spread shows that most weddings cluster towards fewer enquiries. This pattern suggests that couples generally find suitable suppliers quickly or are selective in their initial outreach. The mean number of enquiries per wedding in Great Britain is 2.07, while the mode is 1."
   ]
  },
  {
   "cell_type": "markdown",
   "metadata": {},
   "source": [
    "### 4. Plot Daily Enquiry Levels for GB & FR"
   ]
  },
  {
   "cell_type": "code",
   "execution_count": 21,
   "metadata": {},
   "outputs": [
    {
     "data": {
      "image/png": "[encoded data removed]",
      "text/plain": [
       "<Figure size 1400x800 with 1 Axes>"
      ]
     },
     "metadata": {},
     "output_type": "display_data"
    }
   ],
   "source": [
    "# Filter data for country codes GB and FR\n",
    "gb_fr_data = enquiries_df[enquiries_df['countryCode'].isin(['GB', 'FR'])]\n",
    "\n",
    "# Aggregate daily enquiry counts\n",
    "daily_enquiries = gb_fr_data.groupby(['weekStartDt', 'countryCode']).size().reset_index(name='enquiry_count')\n",
    "\n",
    "# Plotting\n",
    "plt.figure(figsize=(14, 8))\n",
    "sns.lineplot(data=daily_enquiries, x='weekStartDt', y='enquiry_count', hue='countryCode')\n",
    "plt.title('Daily Enquiry Levels (GB & FR)')\n",
    "plt.xlabel('Date')\n",
    "plt.ylabel('Number of Enquiries')\n",
    "plt.show()\n"
   ]
  },
  {
   "cell_type": "markdown",
   "metadata": {},
   "source": [
    "The plot reveals distinct patterns in daily enquiry levels for country codes GB and FR.  Great Britain (GB) shows significantly higher number of enquiries compared to France (FR) overall. This indicates a consistently higher engagement on the wedding app platform in Great Britain compared to France on these dates. The data suggests that couples in GB are more actively reaching out to suppliers compared to those in FR."
   ]
  },
  {
   "cell_type": "markdown",
   "metadata": {},
   "source": [
    "### 5. Identify Greatest Drop Off in Conversion for GB in the FCR Funnel"
   ]
  },
  {
   "cell_type": "code",
   "execution_count": 22,
   "metadata": {},
   "outputs": [
    {
     "name": "stdout",
     "output_type": "stream",
     "text": [
      "Conversion rates at each step:\n",
      "        step  conversion_rate  drop_off\n",
      "0  cm1_check         1.000000       NaN\n",
      "1  smr_check         0.773223  0.226777\n",
      "2  sm1_check         0.535547  0.237675\n",
      "3  cmr_check         0.355475  0.180073\n",
      "4  cm2_check         0.083550  0.271925\n",
      "5   re_check         0.209652  0.126103\n",
      "\n",
      "Step with the greatest drop off in conversion:\n",
      "step               cm2_check\n",
      "conversion_rate      0.08355\n",
      "drop_off            0.271925\n",
      "Name: 4, dtype: object\n"
     ]
    }
   ],
   "source": [
    "# Filter data for country code GB\n",
    "gb_data = enquiries_df[enquiries_df['countryCode'] == 'GB']\n",
    "\n",
    "# Calculate conversion rates at each step\n",
    "steps = ['cm1_check', 'smr_check', 'sm1_check', 'cmr_check', 'cm2_check', 're_check']\n",
    "conversion_rates = gb_data[steps].mean().reset_index(name='conversion_rate').rename(columns={'index': 'step'})\n",
    "\n",
    "# Identify step with greatest drop-off\n",
    "conversion_rates['drop_off'] = conversion_rates['conversion_rate'].diff().abs()\n",
    "greatest_drop_off_step = conversion_rates.loc[conversion_rates['drop_off'].idxmax()]\n",
    "\n",
    "print(\"Conversion rates at each step:\")\n",
    "print(conversion_rates)\n",
    "\n",
    "print(\"\\nStep with the greatest drop off in conversion:\")\n",
    "print(greatest_drop_off_step)\n"
   ]
  },
  {
   "cell_type": "markdown",
   "metadata": {},
   "source": [
    "The conversion rates at each step of the FCR funnel for GB reveal significant drop-offs at various stages. The initial step (`cm1_check`) shows a perfect conversion rate of 1.000, as it represents the couples sending out initial enquiries. The most substantial drop-off occurs at the `cm2_check` step, where the conversion rate plummets to 0.08355, resulting in a drop-off of 0.271925. This indicates that the largest number of couples disengage or fail to respond to the supplier's response at this stage. Other notable drop-offs are seen between `smr_check` (0.773223) and `sm1_check` (0.535547), with a drop-off of 0.237675, and between `sm1_check` and `cmr_check` (0.355475), with a drop-off of 0.180073. The data suggests that the most critical point of loss in the funnel is when couples are expected to respond back to the supplier."
   ]
  }
 ],
 "metadata": {
  "kernelspec": {
   "display_name": "Python 3 (ipykernel)",
   "language": "python",
   "name": "python3"
  },
  "language_info": {
   "codemirror_mode": {
    "name": "ipython",
    "version": 3
   },
   "file_extension": ".py",
   "mimetype": "text/x-python",
   "name": "python",
   "nbconvert_exporter": "python",
   "pygments_lexer": "ipython3",
   "version": "3.12.3"
  }
 },
 "nbformat": 4,
 "nbformat_minor": 4
}
